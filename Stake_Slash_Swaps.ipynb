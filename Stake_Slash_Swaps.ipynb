{
  "nbformat": 4,
  "nbformat_minor": 0,
  "metadata": {
    "colab": {
      "name": "Stake Slash Swaps.ipynb",
      "provenance": [],
      "collapsed_sections": [],
      "authorship_tag": "ABX9TyNNdqbD4omw3OV0RbVf8wsK",
      "include_colab_link": true
    },
    "kernelspec": {
      "name": "python3",
      "display_name": "Python 3"
    }
  },
  "cells": [
    {
      "cell_type": "markdown",
      "metadata": {
        "id": "view-in-github",
        "colab_type": "text"
      },
      "source": [
        "<a href=\"https://colab.research.google.com/github/Matthew12o/StakeSlashSwap/blob/main/Stake_Slash_Swaps.ipynb\" target=\"_parent\"><img src=\"https://colab.research.google.com/assets/colab-badge.svg\" alt=\"Open In Colab\"/></a>"
      ]
    },
    {
      "cell_type": "markdown",
      "metadata": {
        "id": "ZrR48_m6rw6T"
      },
      "source": [
        "# Generalizable Proof of Stake Token Stake Slash Swaps\n",
        "\n",
        "*Disclaimer: The material below is intended to be for educational purposes only. Hypersphere is not providing investment advice or marketing the financial products discussed below.*"
      ]
    },
    {
      "cell_type": "markdown",
      "metadata": {
        "id": "OX8lqVPksRmf"
      },
      "source": [
        "## Introduction to Proof of Stake Tokens\n",
        "\n",
        "Proof of Stake (PoS) Tokens are challenging the incumbent Proof of Work (PoW) Tokens in 2020. Top 5 PoS Tokens: Polkadot, Cardano, Eos, Tron and Tezos have increased their combined market capitalization in 2020 YTD. Unlike PoW Tokens, PoS Tokens allow the holders of the token an incentive to **stake** and earn rewards. The stake rewards are becoming a new investment opportunity for the asset holders in the digital asset space. However, like all investments, that reward comes with few forms of risk including a risk of being slashed.\n",
        "\n",
        "*To learn more about staking please refer to the article linked below.*\n",
        "[link]\n",
        "\n"
      ]
    },
    {
      "cell_type": "markdown",
      "metadata": {
        "id": "dwTXNeSwuvbi"
      },
      "source": [
        "## Slashing Risk\n",
        "\n",
        "Slashing risk is a form of risk taken by the PoS Token holder for staking his/her PoS token in the network. Slashing risk is an idiosyncratic risk to each validator/nominator due to the technical nature of the event."
      ]
    },
    {
      "cell_type": "markdown",
      "metadata": {
        "id": "8QBy0QyDuiOL"
      },
      "source": [
        "## Quick Look At Risk Management Framework\n",
        "\n",
        "All investors are taking an explicit or an implicit risk management decision when they are making an investment. The risk management decision can be rolled into 4 choices: \n",
        "\n",
        "1.   Accept\n",
        ">When an investor decides to **accept** any particular risk, he/she is willing to make an investment as the expected loss from the risk is lower than the cost to take other action. \\\n",
        ">In the context of staking, staking without any protection is **accepting** the expected loss from slashing with or without knowledge of the expected loss.\n",
        "\n",
        "2.   Mitigate\n",
        ">When an investor decides to **mitigate** any particular risk, he/she is utilizing internal or external knowledge to invest in operations to reduce the potential size or likelihood of that risk. \\\n",
        ">In the context of staking, if investors or stake providers invested resources to build robust infrastructure to reduce the likelihood of being slashed.\n",
        "\n",
        "3.   Transfer\n",
        ">When an investor decides to **transfer** any particular risk, he/she is finding a counterparty that is willing to obtain that risk for a fee or an exposure. \\\n",
        ">In the context of staking, investors can buy an insurance or purchase a stake slash swap (discussed below).\n",
        "\n",
        "4.   Avoid \n",
        ">When an investor decides to **avoid** any particular risk, he/she is unwilling to make an investment due to the expected reward being lower than the expected risk. \\\n",
        ">In the context of staking, investors would choose not to stake if they decided to avoid slashing risk\n",
        "\n",
        "Each action of an investor is an exercise in risk management decision making whether that decision is implicit or explicit. \n"
      ]
    },
    {
      "cell_type": "markdown",
      "metadata": {
        "id": "itEfYNLkysn9"
      },
      "source": [
        "## Case for Hedging Slash Event Risk\n",
        "\n",
        "While the digital asset market attracts many technically [proficient] investors, most investors are not a specialist in staking infrastructure. This poses a risk to investors that are not within their domain expertise. This requires trust in the expertise claimed by the staking provider service or be willing to accept risk without being able to [calculate] or hedge their risk. There have already been a number of slashing events that have resulted in the staked PoS token to be slashed and have resulted in losses for the staker.\n",
        "\n",
        "Hedging via financial instruments such as stake slash swaps allows the staker to seamlessly transfer the risk of slashing to a counterparty that is more fit to take such risk."
      ]
    },
    {
      "cell_type": "markdown",
      "metadata": {
        "id": "CamRWc2s10I0"
      },
      "source": [
        "## Introduction to Stake Slash Swap \n",
        "\n",
        "**Stake Slash Swap (SSS)** was designed by Hypersphere to allow seamless transfer of slashing risk between two parties by a financial instrument. The design is borrowed from a credit default swap (CDS) widely used in the credit market. Like CDSs in the traditional finance market, the contract facilitates the exchange of expected value of the tokens exchanged in the event of slash with a present value of periodic cash flow. This results in a two party exchanging, or **swapping**, two stream of equally valuable cash.\n"
      ]
    },
    {
      "cell_type": "markdown",
      "metadata": {
        "id": "Dz3uzPKS5hJ0"
      },
      "source": [
        "\n",
        "### Motivations:\n",
        "- Buyers\n",
        ">The Stake Slash Swap provides risk of slashing events to be transferred to the seller. The motivation for the buyer is much more self evident. Additionally, if a particular validator or nominator has had serious deficiencies in their staking infrastructure, then a SSS can be used to express the high likelihood of failure in the infrastructure.\n",
        "\n",
        "- Sellers\n",
        ">The Stake Slash Swap is an uncorrelated asset that a seller could underwrite to obtain a cash flow of PoS tokens. This allows the seller to participate in the staking reward without an upfront investment into the Token to stake or investment into the infrastructure and further diversify the seller's portfolio. Additionally, a specialist or staking providers that are knowledgeable in the staking infrastructure can underwrite the swap to benefit if he/she perceives the swap to be overpriced."
      ]
    },
    {
      "cell_type": "markdown",
      "metadata": {
        "id": "croZttcj5a09"
      },
      "source": [
        "### Pricing of Stake Slash Swaps\n",
        "The pricing of SSS borrows from the pricing model of traditional CDS, but is slightly modified to accommodate the difference in timing of the slashing event and potential governance action. Using the Hull-White Model, zero premium SSS spread can be found finding the spread at which the expected cash payout is equal to the present value of the cash flow payments.\n",
        "\n",
        "\\begin{equation*}\n",
        "\\text{SSS Spread} = \\frac{ \\int_0^T [ 1 - \\hat{R} - A( t ) \\hat{R} ] q ( t ) v ( t + n ) \\partial t}{ \\int_0^T q ( t ) [ \\mu ( t ) + e \\left( t \\right) ] \\partial t + \\pi \\mu ( T ) }\n",
        "\\end{equation*}\n",
        "\n",
        "where\n",
        "\n",
        "\\begin{equation*}\n",
        "\\hat{R} = \\text{Recovery rate} \\\\\n",
        "A(t) = \\text{Accrued reward on staking on era t as a percentage of notional} \\\\\n",
        "q(t) = \\text{Risk neutral slash probability density} \\\\\n",
        "v(t+n) = \\text{The present value of PoS Token received after council vote} \\\\\n",
        "\\mu(t) = \\text{The present value of payment at the rate of 1 PoS Token per year} \\\\\n",
        "e(t) = \\text{The present value of accrued payment at time t} \\\\\n",
        "\\pi = 1 - q(t)\n",
        "\\end{equation*}\n",
        "\n"
      ]
    },
    {
      "cell_type": "markdown",
      "metadata": {
        "id": "gX2I9DPT-99p"
      },
      "source": [
        "## Future State and Deployment\n",
        "\n",
        "Currently, Hypersphere sees the Stake Slash Swaps to be traded by a bilateral agreement between two trusted parties. This is to address two challenges. First, without a market based price discovery mechanism, sellers must be able to trust the validator to not act in bad faith. Second, buyers must be able to believe in the credit worthiness of the underwriter. \n",
        " \n",
        "In the future, Hypersphere sees the Stake Slash Swaps to come to on-chain. Through a smart contract, all the cash flow can be settled automatically between the two parties in a trustless manner. The two challenges pointed above currently cannot be solved by the DeFi applications adequately to serve both the buyers and sellers.\n"
      ]
    },
    {
      "cell_type": "markdown",
      "metadata": {
        "id": "tLMtcGQH8que"
      },
      "source": [
        "## Addressing Feedback\n",
        "\n",
        "Feedback: Does the Stake Slash Swap incentivize validators to behave badly? \\\n",
        ">Hypersphere have heard some concerns that a bad actor can purchase Stake Slash Swaps to protect themselves before a malicious attack; thus, the existence of SSSs can protect and incentivize potential bad actors. While this risk is real, Hypersphere views the SSS to be an early indicator of a bad actor and not an incentive. If a bad actor purchases a large number of SSS on a particular validator before an attack, the bad actor is attracting attention to that particular validator by increasing the value of the swap, expressed as the SSS Spread, compared to other validators. Furthermore, majority of validators are operated by staking providers, who have their reputations irreparably damaged when a slashing event occurs. Unless the staking provider can aggregate a massive SSS position in a single validator, the business risk posed by slashing event will be greater than financial incentive for the stake provider. Finally, the swap also serves as a benefit to new stakers, as it can see the validator specific SSS Spread to evaluate the riskiness of each validator or staking provider that owns sets of validators; thus, allowing the community to help in the due diligence process."
      ]
    },
    {
      "cell_type": "markdown",
      "metadata": {
        "id": "iyBuVylb5238"
      },
      "source": [
        "# Playground\n",
        "\n",
        "Playground allows one to price out the Stake Slash Swaps on DOT based on the user's assumptions"
      ]
    },
    {
      "cell_type": "code",
      "metadata": {
        "id": "y0JNfFnd3h0A",
        "cellView": "form"
      },
      "source": [
        "#@title\n",
        "# import\n",
        "%matplotlib inline\n",
        "from IPython.display import display\n",
        "from ipywidgets import *\n",
        "from __future__ import print_function\n",
        "from ipywidgets import interact, interactive, fixed, interact_manual\n",
        "import ipywidgets as widgets\n",
        "import math\n",
        "from matplotlib import pyplot as plt\n",
        "import numpy as np\n",
        "\n",
        "#input components\n",
        "title_input = widgets.Label('Contract Input:')\n",
        "slide_tenor = widgets.IntSlider(value = 31, min = 1, max = 365 * 5, step = 1)\n",
        "slide_payment = widgets.IntSlider(value = 1, min = 1, max = 1)\n",
        "slide_discount_rate = widgets.FloatSlider(value = 0.04, min = 0.025, max = 1, step = 0.0005, readout_format = '.2%')\n",
        "slide_notional = widgets.IntSlider(value = 10000, min = 1, max = 1000000, readout_format = ',.0f')\n",
        "slide_reward = widgets.FloatSlider(value = 0.07, min = 0.025, max = 1, step = 0.0005, readout_format = '.2%')\n",
        "\n",
        "#input display prep\n",
        "disp_tenor = widgets.HBox([widgets.Label('Tenor in Days: '), slide_tenor])\n",
        "disp_payment = widgets.HBox([widgets.Label('Payment term in Days: '), slide_payment])\n",
        "disp_discount_rate = widgets.HBox([widgets.Label('Discount Rate: '), slide_discount_rate])\n",
        "disp_reward_rate = widgets.HBox([widgets.Label('Reward Rate: '), slide_reward])\n",
        "disp_notional = widgets.HBox([widgets.Label('Notional Amount (DOT): '), slide_notional])\n",
        "\n",
        "#slash level inputs \n",
        "\n",
        "# Level 1 Accordiion\n",
        "enable_level_1 = widgets.Checkbox(value=False, description='Covered')\n",
        "#include in the update\n",
        "prob_level_1 = widgets.FloatSlider(value=0.001, min=0, max=1, step=0.000001, readout_format='.4%', disabled=not enable_level_1.value)\n",
        "recovery_level_1 = widgets.FloatSlider(value = 1, min = 1, max = 1, step = 0.0005, readout_format='.2%', disabled=not enable_level_1.value)\n",
        "\n",
        "disp_prob_level_1 = widgets.HBox([widgets.Label('Slash Probability: '), prob_level_1])\n",
        "disp_recovery_level_1 = widgets.HBox([widgets.Label('Recovery Rate: '), recovery_level_1])\n",
        "\n",
        "disp_level_1 = widgets.VBox([enable_level_1, disp_prob_level_1, disp_recovery_level_1])\n",
        "\n",
        "def updateAccordionLevel_1(b_1):\n",
        "  if b_1:\n",
        "    title = 'Slash Level 1 Configuration (Covered)'\n",
        "  else:\n",
        "    title = 'Slash Level 1 Configuration (Not Covered)'\n",
        "  disp_accordion.set_title(0, title)\n",
        "  prob_level_1.disabled = not b_1\n",
        "  recovery_level_1.disabled = not b_1\n",
        "\n",
        "output_accordion_level_1 = widgets.interactive_output(updateAccordionLevel_1, {\n",
        "    'b_1' : enable_level_1\n",
        "})\n",
        "\n",
        "# Level 2 Accordiion\n",
        "enable_level_2 = widgets.Checkbox(value=True, description='Covered')\n",
        "#include in the update\n",
        "prob_level_2 = widgets.FloatSlider(value=0.0001, min=0, max=1, step=0.000001, readout_format='.4%', disabled=not enable_level_2.value)\n",
        "recovery_level_2 = widgets.FloatSlider(value = 0.99, min = 0.99, max = 1, step = 0.0005, readout_format='.2%', disabled=not enable_level_2.value)\n",
        "\n",
        "disp_prob_level_2 = widgets.HBox([widgets.Label('Slash Probability: '), prob_level_2])\n",
        "disp_recovery_level_2 = widgets.HBox([widgets.Label('Recovery Rate: '), recovery_level_2])\n",
        "\n",
        "disp_level_2 = widgets.VBox([enable_level_2, disp_prob_level_2, disp_recovery_level_2])\n",
        "\n",
        "def updateAccordionLevel_2(b_2):\n",
        "  if b_2:\n",
        "    title = 'Slash Level 2 Configuration (Covered)'\n",
        "  else:\n",
        "    title = 'Slash Level 2 Configuration (Not Covered)'\n",
        "  disp_accordion.set_title(1, title)\n",
        "  prob_level_2.disabled = not b_2\n",
        "  recovery_level_2.disabled = not b_2\n",
        "\n",
        "output_accordion_level_2 = widgets.interactive_output(updateAccordionLevel_2, {\n",
        "    'b_2' : enable_level_2\n",
        "})\n",
        "\n",
        "\n",
        "# Level 3 Accordiion\n",
        "enable_level_3 = widgets.Checkbox(value=True, description='Covered')\n",
        "#include in the update\n",
        "prob_level_3 = widgets.FloatSlider(value=0.00001, min=0, max=1, step=0.000001, readout_format='.4%', disabled=not enable_level_3.value)\n",
        "recovery_level_3 = widgets.FloatSlider(value = 0.90, min = 0.90, max = 1, step = 0.0005, readout_format='.2%', disabled=not enable_level_3.value)\n",
        "\n",
        "disp_prob_level_3 = widgets.HBox([widgets.Label('Slash Probability: '), prob_level_3])\n",
        "disp_recovery_level_3 = widgets.HBox([widgets.Label('Recovery Rate: '), recovery_level_3])\n",
        "\n",
        "disp_level_3 = widgets.VBox([enable_level_3, disp_prob_level_3, disp_recovery_level_3])\n",
        "\n",
        "def updateAccordionLevel_3(b_3):\n",
        "  if b_3:\n",
        "    title = 'Slash Level 3 Configuration (Covered)'\n",
        "  else:\n",
        "    title = 'Slash Level 3 Configuration (Not Covered)'\n",
        "  disp_accordion.set_title(2, title)\n",
        "  prob_level_3.disabled = not b_3\n",
        "  recovery_level_3.disabled = not b_3\n",
        "\n",
        "output_accordion_level_3 = widgets.interactive_output(updateAccordionLevel_3, {\n",
        "    'b_3' : enable_level_3\n",
        "})\n",
        "\n",
        "# Level 4 Accordiion\n",
        "enable_level_4 = widgets.Checkbox(value=True, description='Covered')\n",
        "#include in the update\n",
        "prob_level_4 = widgets.FloatSlider(value=0.00001, min=0, max=1, step=0.000001, readout_format='.4%', disabled=not enable_level_4.value)\n",
        "recovery_level_4 = widgets.FloatSlider(value = 0.00, min = 0.00, max = 1, step = 0.0005, readout_format='.2%', disabled=not enable_level_4.value)\n",
        "\n",
        "disp_prob_level_4 = widgets.HBox([widgets.Label('Slash Probability: '), prob_level_4])\n",
        "disp_recovery_level_4 = widgets.HBox([widgets.Label('Recovery Rate: '), recovery_level_4])\n",
        "\n",
        "disp_level_4 = widgets.VBox([enable_level_4, disp_prob_level_4, disp_recovery_level_4])\n",
        "\n",
        "def updateAccordionLevel_4(b_4):\n",
        "  if b_4:\n",
        "    title = 'Slash Level 4 Configuration (Covered)'\n",
        "  else:\n",
        "    title = 'Slash Level 4 Configuration (Not Covered)'\n",
        "  disp_accordion.set_title(3, title)\n",
        "  prob_level_4.disabled = not b_4\n",
        "  recovery_level_4.disabled = not b_4\n",
        "\n",
        "output_accordion_level_4 = widgets.interactive_output(updateAccordionLevel_4, {\n",
        "    'b_4' : enable_level_4\n",
        "})\n",
        "\n",
        "disp_accordion = widgets.Accordion(children=[disp_level_1, disp_level_2, disp_level_3, disp_level_4])\n",
        "#include in update\n",
        "disp_accordion.set_title(0, 'Slash Level 1 Configuration (Not Covered)')\n",
        "disp_accordion.set_title(1, 'Slash Level 2 Configuration (Covered)')\n",
        "disp_accordion.set_title(2, 'Slash Level 3 Configuration (Covered)')\n",
        "disp_accordion.set_title(3, 'Slash Level 4 Configuration (Covered)')\n",
        "\n",
        "input_display = widgets.VBox([title_input, disp_tenor, disp_payment, disp_reward_rate, disp_discount_rate, disp_notional, disp_accordion])\n",
        "\n",
        "def getSwapSpread(t, p, r, pr, R):\n",
        "  days = np.linspace(start=1, stop=t, num=t)\n",
        "  expected_payoff = 0\n",
        "  pv_cashflow = 0\n",
        "  for d in days:\n",
        "    expected_payoff += (1-R)*pr**d*(1-r)*math.exp(-r * (d+28) / 365)\n",
        "    pv_cashflow += pr**d*(1*math.exp(-r*d/365)+d%p*math.exp(-r*d/365))\n",
        "  pv_cashflow += (1-pr**d)*math.exp(-r*d/365)\n",
        "  spread = expected_payoff / pv_cashflow\n",
        "  return spread\n",
        "\n",
        "def getCashFlow(t, p, r, n):\n",
        "  days = np.linspace(start=1, stop=t, num=t)\n",
        "  cashflow = []\n",
        "  for d in days:\n",
        "    if d%p == 0:\n",
        "      cashflow.append(n*r*p/365)\n",
        "    else:\n",
        "      cashflow.append(0)\n",
        "  return cashflow\n",
        "\n",
        "# output components\n",
        "def CalculateSpread(tenor, term, discount, notional, b_1, b_2, b_3, b_4, prob_1, prob_2, prob_3, prob_4, recov_1, recov_2, recov_3, recov_4, reward):\n",
        "  spread = 0\n",
        "  if b_1:\n",
        "    spread += getSwapSpread(tenor, term, discount, prob_1, recov_1)\n",
        "  \n",
        "  if b_2:\n",
        "    spread += getSwapSpread(tenor, term, discount, prob_2, recov_2)\n",
        "  \n",
        "  if b_3:\n",
        "    spread += getSwapSpread(tenor, term, discount, prob_3, recov_3)\n",
        "  \n",
        "  if b_4:\n",
        "    spread += getSwapSpread(tenor, term, discount, prob_4, recov_4)\n",
        "  \n",
        "  buyer_inflow = getCashFlow(tenor, term, reward, notional)\n",
        "  seller_inflow = getCashFlow(tenor, term, spread, notional)\n",
        "\n",
        "  net_inflow = []\n",
        "  zip_object = zip(buyer_inflow, seller_inflow)\n",
        "  for i1, i2 in zip_object:\n",
        "    net_inflow.append(i1-i2)\n",
        "\n",
        "  print('Stake Slash Swap Spread: {:.2%}'.format(spread))\n",
        "  print('Buyer: \\n\\t Staking Reward (Constant): {:.2f} \\n\\t Swap Payments: {:.2f} \\n\\t Net Income: {:.2f}'.format(sum(buyer_inflow), -1*sum(seller_inflow), sum(buyer_inflow) - sum(seller_inflow)))\n",
        "  print('Seller: \\n\\t Swap Income: {:.2f}'.format(sum(seller_inflow)))\n",
        "\n",
        "  days = np.linspace(start=1, stop=tenor, num=tenor)\n",
        "  width=0.25\n",
        "  fig, ax = plt.subplots()\n",
        "  fig.set_figheight(6)\n",
        "  fig.set_figwidth(27)\n",
        "  b1 = ax.bar(days - width/2, buyer_inflow, width, label='Staking Reward')\n",
        "  b2 = ax.bar(days + width/2,  np.array(seller_inflow)*-1, width, label='Swap Payments')\n",
        "  b3 = ax.bar(days + width*3/2, net_inflow, width, label='Net Cash Flow')\n",
        "  ax.legend()\n",
        "  fig.show()\n",
        "\n",
        "\n",
        "output_dispaly = widgets.interactive_output(CalculateSpread, {\n",
        "    'tenor': slide_tenor,\n",
        "    'term' : slide_payment,\n",
        "    'discount' : slide_discount_rate,\n",
        "    'notional' : slide_notional,\n",
        "    'b_1': enable_level_1,\n",
        "    'b_2': enable_level_2,\n",
        "    'b_3': enable_level_3,\n",
        "    'b_4': enable_level_4,\n",
        "    'prob_1': prob_level_1,\n",
        "    'prob_2' : prob_level_2,\n",
        "    'prob_3' : prob_level_3,\n",
        "    'prob_4' : prob_level_4,\n",
        "    'recov_1' : recovery_level_1,\n",
        "    'recov_2' : recovery_level_2,\n",
        "    'recov_3' : recovery_level_3,\n",
        "    'recov_4' : recovery_level_4,\n",
        "    'reward' : slide_reward\n",
        "})\n",
        "\n",
        "display(input_display, output_accordion_level_1, output_accordion_level_2, output_accordion_level_3,output_accordion_level_4,output_dispaly)"
      ],
      "execution_count": null,
      "outputs": []
    },
    {
      "cell_type": "code",
      "metadata": {
        "id": "cH64hhbkQyxu"
      },
      "source": [
        ""
      ],
      "execution_count": null,
      "outputs": []
    }
  ]
}